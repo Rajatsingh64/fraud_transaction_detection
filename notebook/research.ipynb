{
  "cells": [
    {
      "cell_type": "markdown",
      "id": "c5139fdb",
      "metadata": {
        "id": "c5139fdb"
      },
      "source": [
        "### **FRAUD TRANSACTION DETECTION PROJECT**\n",
        "\n",
        "**Problem Statement:**\n",
        "Fraud detection is a set of activities undertaken to prevent money or property from\n",
        "being obtained through false pretenses. Fraud detection is applied to many industries\n",
        "such as banking or insurance. In banking, fraud may include forging checks or using\n",
        "stolen credit cards. Other forms of fraud may involve exaggerating losses or causing an\n",
        "accident with the sole intent for the pay-out. With an unlimited and rising number of\n",
        "ways someone can commit fraud, detection can be difficult to accomplish. Fraud\n",
        "detection is a critical issue for retailers determined to prevent losses and preserve\n",
        "customer trust.\n",
        "Digitalization is one of the major advancements we have in this time. The global market\n",
        "is at the fingertip of each and every individual through Online purchase. Both for the\n",
        "consumers and sellers, online market tends to give more in terms of profit as well as\n",
        "exposure to a larger community.\n",
        "With the increase in digitalization, there is also increase in the fraudulent activities\n",
        "happening in various domains, mainly in the retail domain. These are detrimental to the\n",
        "ecosystem of online transactions. Machine learning provides an intelligent option in\n",
        "dealing with this challenge.\n"
      ]
    },
    {
      "cell_type": "markdown",
      "id": "668dd295",
      "metadata": {
        "id": "668dd295"
      },
      "source": [
        "### **DATASET OVERVIEW:**\n",
        "\n",
        "### Transaction features\n",
        "\n",
        "Our focus will be on the most essential features of a transaction. In essence, a payment card transaction consists of any amount paid to a merchant by a customer at a certain time. The main features that summarize a transaction are:\n",
        "\n",
        "- Transaction ID: A unique identifier for the transaction.\n",
        "\n",
        "- Date and Time: The date and time at which the transaction occurs (TX_DATETIME).\n",
        "\n",
        "- Customer ID: The identifier for the customer. Each customer has a unique identifier (CUSTOMER_ID).\n",
        "\n",
        "- Terminal ID: The identifier for the merchant terminal. Each terminal has a unique identifier (TERMINAL_ID).\n",
        "\n",
        "- Transaction Amount: The amount of the transaction (TX_AMOUNT).\n",
        "\n",
        "- Transaction Time (Seconds): Time elapsed in seconds related to the transaction (TX_TIME_SECONDS).\n",
        "\n",
        "- Transaction Time (Days): Time elapsed in days related to the transaction (TX_TIME_DAYS).\n",
        "\n",
        "- Fraud Label: A binary variable, where `0` indicates a legitimate transaction and `1` indicates a fraudulent transaction (TX_FRAUD).\n",
        "\n",
        "- Fraud Scenario: The specific type or scenario of fraud detected for a transaction (TX_FRAUD_SCENARIO).\n",
        "\n",
        "These features will be referred to as `TRANSACTION_ID`, `TX_DATETIME`, `CUSTOMER_ID`, `TERMINAL_ID`, `TX_AMOUNT`, `TX_TIME_SECONDS`, `TX_TIME_DAYS`, `TX_FRAUD`, and `TX_FRAUD_SCENARIO`."
      ]
    },
    {
      "cell_type": "markdown",
      "id": "44342589",
      "metadata": {
        "id": "44342589"
      },
      "source": [
        "**IMPORTING BASIC LIBRARIES**"
      ]
    },
    {
      "cell_type": "code",
      "execution_count": null,
      "id": "ef79dc0e",
      "metadata": {
        "id": "ef79dc0e"
      },
      "outputs": [],
      "source": [
        "import pandas as pd\n",
        "import numpy as np\n",
        "import os\n",
        "import sys\n",
        "import pickle\n",
        "import warnings\n",
        "\n",
        "warnings.filterwarnings(\"ignore\")"
      ]
    },
    {
      "cell_type": "markdown",
      "id": "39982c76",
      "metadata": {
        "id": "39982c76"
      },
      "source": [
        "### Extracting Dataset as DataFrame"
      ]
    },
    {
      "cell_type": "code",
      "execution_count": null,
      "id": "74881b86",
      "metadata": {
        "id": "74881b86"
      },
      "outputs": [],
      "source": [
        "#from src.utils import read_from_files\n",
        "\n",
        "#DIR_INPUT='../dataset/data/'\n",
        "\n",
        "#BEGIN_DATE = \"2018-04-01\"\n",
        "#END_DATE = \"2018-09-30\"\n",
        "\n",
        "##print(\"Load  files\")\n",
        "#transactions_df=read_from_files(DIR_INPUT, BEGIN_DATE, END_DATE)\n",
        "#print(\"{0} transactions loaded, containing {1} fraudulent transactions\".format(len(transactions_df),transactions_df.TX_FRAUD.sum()))\n",
        "\n",
        "\n",
        "#transactions_df.to_csv(\"../dataset/card_fraud.csv\" , index=False , header=True)"
      ]
    },
    {
      "cell_type": "code",
      "execution_count": null,
      "id": "f14400ab",
      "metadata": {
        "colab": {
          "base_uri": "https://localhost:8080/",
          "height": 206
        },
        "id": "f14400ab",
        "outputId": "f82d0497-605c-4c70-d83f-159530280b3f"
      },
      "outputs": [],
      "source": [
        "df = pd.read_csv(\"https://raw.githubusercontent.com/Rajatsingh64/fraud_transaction_detection/refs/heads/main/dataset/card_fraud.csv\")\n",
        "df.head()"
      ]
    },
    {
      "cell_type": "code",
      "execution_count": null,
      "id": "a95eb4a5",
      "metadata": {
        "colab": {
          "base_uri": "https://localhost:8080/"
        },
        "id": "a95eb4a5",
        "outputId": "f1b4b017-713b-4dfb-9ec0-344be759967d"
      },
      "outputs": [],
      "source": [
        "df.shape"
      ]
    },
    {
      "cell_type": "code",
      "execution_count": null,
      "id": "104c8416",
      "metadata": {
        "colab": {
          "base_uri": "https://localhost:8080/"
        },
        "id": "104c8416",
        "outputId": "d5f7ba48-8077-4a98-ff8d-910e1a8c1ee8"
      },
      "outputs": [],
      "source": [
        "df.info()"
      ]
    },
    {
      "cell_type": "markdown",
      "id": "c0b28eb6",
      "metadata": {
        "id": "c0b28eb6"
      },
      "source": [
        "### Convert datetime Column from Object to datetime64 Format"
      ]
    },
    {
      "cell_type": "code",
      "execution_count": null,
      "id": "879c9289",
      "metadata": {
        "colab": {
          "base_uri": "https://localhost:8080/",
          "height": 458
        },
        "id": "879c9289",
        "outputId": "dc74a0cd-2a8d-47eb-cacb-01132e979a7b"
      },
      "outputs": [],
      "source": [
        "df[\"TX_DATETIME\"]"
      ]
    },
    {
      "cell_type": "code",
      "execution_count": null,
      "id": "45318839",
      "metadata": {
        "colab": {
          "base_uri": "https://localhost:8080/"
        },
        "id": "45318839",
        "outputId": "a9ada0e2-70be-470a-aa96-4cafb45a4627"
      },
      "outputs": [],
      "source": [
        "df[\"TX_DATETIME\"]=pd.to_datetime(df[\"TX_DATETIME\"])\n",
        "df[\"TX_DATETIME\"].dtype"
      ]
    },
    {
      "cell_type": "code",
      "execution_count": null,
      "id": "38f64d95",
      "metadata": {
        "colab": {
          "base_uri": "https://localhost:8080/",
          "height": 366
        },
        "id": "38f64d95",
        "outputId": "ce093886-9c6b-437e-8fc0-b3c402971370"
      },
      "outputs": [],
      "source": [
        "df.isnull().sum()"
      ]
    },
    {
      "cell_type": "code",
      "execution_count": null,
      "id": "decf20b0",
      "metadata": {
        "colab": {
          "base_uri": "https://localhost:8080/"
        },
        "id": "decf20b0",
        "outputId": "8bc575ae-d829-4306-b46e-90482e3a6b2f"
      },
      "outputs": [],
      "source": [
        "df.duplicated().sum()"
      ]
    },
    {
      "cell_type": "code",
      "execution_count": null,
      "id": "16bade6a",
      "metadata": {
        "colab": {
          "base_uri": "https://localhost:8080/",
          "height": 424
        },
        "id": "16bade6a",
        "outputId": "121d976e-c531-4d89-a112-5f0dc91eb9fd"
      },
      "outputs": [],
      "source": [
        "df.describe()"
      ]
    },
    {
      "cell_type": "markdown",
      "id": "885c54b2",
      "metadata": {
        "id": "885c54b2"
      },
      "source": [
        "###  Count Fraud vs. Non-Fraud Transactions"
      ]
    },
    {
      "cell_type": "code",
      "execution_count": null,
      "id": "7c5a7b88",
      "metadata": {
        "colab": {
          "base_uri": "https://localhost:8080/"
        },
        "id": "7c5a7b88",
        "outputId": "713a95cf-78ce-4489-ddc8-1f39c705206d"
      },
      "outputs": [],
      "source": [
        "fraud_count = df['TX_FRAUD'].value_counts()\n",
        "print(fraud_count)"
      ]
    },
    {
      "cell_type": "markdown",
      "id": "7facd8f9",
      "metadata": {
        "id": "7facd8f9"
      },
      "source": [
        "### **EDA**"
      ]
    },
    {
      "cell_type": "code",
      "execution_count": null,
      "id": "b6e70b7c",
      "metadata": {
        "colab": {
          "base_uri": "https://localhost:8080/",
          "height": 507
        },
        "id": "b6e70b7c",
        "outputId": "8a0e2a4f-798d-4ba1-d51b-1d58e1ca1b9a"
      },
      "outputs": [],
      "source": [
        "import seaborn as sns\n",
        "import matplotlib.pyplot as plt\n",
        "%matplotlib inline\n",
        "\n",
        "# Set Seaborn style\n",
        "sns.set_style(\"darkgrid\")\n",
        "sns.set_palette(\"Set2\")\n",
        "\n",
        "# Calculate fraud counts\n",
        "fraud_count = df['TX_FRAUD'].value_counts()\n",
        "\n",
        "# Convert to DataFrame for barplot\n",
        "fraud_df = fraud_count.reset_index()\n",
        "fraud_df.columns = ['Fraud', 'Count']\n",
        "\n",
        "# Create subplots\n",
        "fig, (ax1, ax2) = plt.subplots(1, 2, figsize=(10, 5))\n",
        "\n",
        "# Barplot\n",
        "sns.barplot(data=fraud_df, x='Fraud', y='Count', palette=[\"green\", \"red\"], ax=ax1)\n",
        "ax1.set_title(\"Fraud vs Non-Fraud Transactions\")\n",
        "ax1.set_xlabel(\"Fraudulent (1) or Not (0)\")\n",
        "ax1.set_ylabel(\"Transaction Count\")\n",
        "\n",
        "# Pie chart\n",
        "labels = ['Not Fraud', 'Fraud'] if 0 in fraud_count.index else ['Fraud', 'Not Fraud']\n",
        "ax2.pie(fraud_count, labels=labels, autopct='%1.1f%%', colors=[\"green\", \"red\"])\n",
        "ax2.set_title(\"Fraud Distribution (%)\")\n",
        "\n",
        "plt.tight_layout()\n",
        "plt.show()\n"
      ]
    },
    {
      "cell_type": "markdown",
      "id": "c1d73c63",
      "metadata": {
        "id": "c1d73c63"
      },
      "source": [
        "### 📝 **Observation**:\n",
        "- By observing the plot, we can see that there are a total of 1,739,474 transactions labeled as 0, which indicates safe (non-fraudulent) transactions.\n",
        "\n",
        "- There are 14,681 transactions labeled as 1, indicating fraudulent transactions.\n",
        "\n",
        "- The dataset is highly imbalanced, which can severely affect model training and lead to poor performance, especially in detecting fraud cases"
      ]
    },
    {
      "cell_type": "code",
      "execution_count": null,
      "id": "740c1812",
      "metadata": {
        "colab": {
          "base_uri": "https://localhost:8080/",
          "height": 206
        },
        "id": "740c1812",
        "outputId": "1388210f-358d-4dd2-fee5-f2624de5815c"
      },
      "outputs": [],
      "source": [
        "df.head()"
      ]
    },
    {
      "cell_type": "code",
      "execution_count": null,
      "id": "5d6324f9",
      "metadata": {
        "colab": {
          "base_uri": "https://localhost:8080/",
          "height": 597
        },
        "id": "5d6324f9",
        "outputId": "7924976b-6a36-424c-ac82-01007601f51f"
      },
      "outputs": [],
      "source": [
        "df.reset_index(drop=True)"
      ]
    },
    {
      "cell_type": "markdown",
      "id": "94f365b1",
      "metadata": {
        "id": "94f365b1"
      },
      "source": [
        "### converting a datetime column to hour and weekday in a Pandas DataFrame:\n",
        "\n"
      ]
    },
    {
      "cell_type": "code",
      "execution_count": null,
      "id": "222a89ea",
      "metadata": {
        "colab": {
          "base_uri": "https://localhost:8080/",
          "height": 423
        },
        "id": "222a89ea",
        "outputId": "80b5067a-ac40-49a5-de6a-ac2027c4b637"
      },
      "outputs": [],
      "source": [
        "df[\"TX_HOUR\"]=df[\"TX_DATETIME\"].dt.hour\n",
        "df[\"TX_WEEK_DAY\"]=df[\"TX_DATETIME\"].dt.day_of_week\n",
        "\n",
        "df[['TX_HOUR' , 'TX_WEEK_DAY']]"
      ]
    },
    {
      "cell_type": "code",
      "execution_count": null,
      "id": "c6def242",
      "metadata": {
        "colab": {
          "base_uri": "https://localhost:8080/",
          "height": 507
        },
        "id": "c6def242",
        "outputId": "3596a132-3139-40a8-f6b2-90796bb92479"
      },
      "outputs": [],
      "source": [
        "# Group by TERMINAL_ID, sum TX_AMOUNT, reset index and sort descending\n",
        "terminal_transaction = (\n",
        "    df.groupby(\"TERMINAL_ID\")[\"TX_AMOUNT\"]\n",
        "    .sum()\n",
        "    .reset_index()\n",
        "    .sort_values(by=\"TX_AMOUNT\", ascending=False)\n",
        ")\n",
        "\n",
        "# Rename columns for clarity\n",
        "terminal_transaction.columns = [\"Terminal\", \"Amount\"]\n",
        "\n",
        "# Optional: plot top 20 terminals only (avoid clutter)\n",
        "top_terminals = terminal_transaction.head(20)\n",
        "\n",
        "# Plot\n",
        "plt.figure(figsize=(10,5))\n",
        "sns.barplot(data=top_terminals, x=\"Terminal\", y=\"Amount\")\n",
        "plt.xticks(rotation=45)\n",
        "plt.title(\"Top 20 Terminals by Total Transaction Amount\")\n",
        "plt.tight_layout()\n",
        "plt.show()\n"
      ]
    },
    {
      "cell_type": "markdown",
      "id": "6d903ca8",
      "metadata": {
        "id": "6d903ca8"
      },
      "source": [
        "### Transaction volumes are relatively balanced across most top terminals\n"
      ]
    },
    {
      "cell_type": "code",
      "execution_count": null,
      "id": "b56a174b",
      "metadata": {
        "colab": {
          "base_uri": "https://localhost:8080/",
          "height": 569
        },
        "id": "b56a174b",
        "outputId": "346f9067-ab04-4497-ed23-c7121f737f48"
      },
      "outputs": [],
      "source": [
        "# Filter only fraudulent transactions\n",
        "fraud_df = df[df[\"TX_FRAUD\"] == 1]\n",
        "\n",
        "# Group by terminal and count the number of frauds\n",
        "terminal_fraud_transaction = (\n",
        "    fraud_df.groupby(\"TERMINAL_ID\")[\"TX_FRAUD\"]\n",
        "    .count()\n",
        "    .sort_values(ascending=False)\n",
        "    .head(20)  # Top 20 terminals with most frauds\n",
        "    .reset_index()\n",
        ")\n",
        "\n",
        "# Rename columns for clarity\n",
        "terminal_fraud_transaction.columns = [\"Terminal\", \"Fraud Count\"]\n",
        "\n",
        "# Set figure size for better readability\n",
        "plt.figure(figsize=(12, 6))\n",
        "\n",
        "# Create barplot\n",
        "sns.barplot(data=terminal_fraud_transaction, x=\"Terminal\", y=\"Fraud Count\", palette=\"Reds_r\")\n",
        "\n",
        "# Improve aesthetics\n",
        "plt.title(\"Top 20 Terminals with Most Fraudulent Transactions\", fontsize=14)\n",
        "plt.xlabel(\"Terminal ID\", fontsize=12)\n",
        "plt.ylabel(\"Number of Frauds\", fontsize=12)\n",
        "plt.xticks(rotation=45, ha='right')  # Rotate x labels for better visibility\n",
        "plt.tight_layout()\n",
        "\n",
        "# Show plot\n",
        "plt.show()\n"
      ]
    },
    {
      "cell_type": "markdown",
      "id": "34053ac8",
      "metadata": {
        "id": "34053ac8"
      },
      "source": [
        "### Obervation:\n",
        "\n",
        "From the analysis of fraudulent transactions, we observe that the terminals 293, 1244, and 3644 are the most affected by fraud. Interestingly, the number of fraud transactions across these terminals is almost equal, indicating a balanced distribution of fraud attempts across multiple terminals rather than a heavy concentration on a single one.\n",
        "\n",
        "This could imply:\n",
        "\n",
        "Fraudsters are spreading their activity to avoid detection.\n",
        "\n",
        "These terminals might be located in areas with higher fraud risk.\n",
        "\n"
      ]
    },
    {
      "cell_type": "code",
      "execution_count": null,
      "id": "035fc5cb",
      "metadata": {
        "colab": {
          "base_uri": "https://localhost:8080/",
          "height": 1000
        },
        "id": "035fc5cb",
        "outputId": "c3d0a48b-32ac-45f8-d966-0c0a9b4abe1a"
      },
      "outputs": [],
      "source": [
        "# Fraud by Hour: Line Plot\n",
        "fraud_by_hour = (\n",
        "    df[df[\"TX_FRAUD\"] == 1]                            # Filter for frauds only\n",
        "    .groupby(\"TX_HOUR\")[\"TX_FRAUD\"].count()           # Count frauds per hour\n",
        "    .sort_values(ascending=False)                     # Sort by highest fraud count\n",
        "    .head(30)                                         # Top 30 (or fewer if 24-hour data)\n",
        "    .reset_index()                                    # Convert to DataFrame\n",
        ")\n",
        "fraud_by_hour.columns = [\"Hour\", \"Fraud\"]             # Rename columns\n",
        "\n",
        "plt.figure(figsize=(12, 6))\n",
        "sns.lineplot(x=\"Hour\", y=\"Fraud\", data=fraud_by_hour, marker=\"o\", color=\"red\")\n",
        "plt.title(\"Trend of Fraudulent Transactions by Hour\", fontsize=16)\n",
        "plt.xlabel(\"Hour of Day\")\n",
        "plt.ylabel(\"Number of Frauds\")\n",
        "plt.grid(True, linestyle='--', alpha=0.5)\n",
        "plt.tight_layout()\n",
        "plt.show()\n",
        "\n",
        "# Step 1: Map day numbers to names\n",
        "day_map = {\n",
        "    0: \"Monday\", 1: \"Tuesday\", 2: \"Wednesday\", 3: \"Thursday\",\n",
        "    4: \"Friday\", 5: \"Saturday\", 6: \"Sunday\"\n",
        "}\n",
        "df[\"TX_DAY_NAME\"] = df[\"TX_WEEK_DAY\"].map(day_map)\n",
        "\n",
        "# Step 2: Pivot and reindex to order days correctly\n",
        "weekday_order = [\"Monday\", \"Tuesday\", \"Wednesday\", \"Thursday\", \"Friday\", \"Saturday\", \"Sunday\"]\n",
        "\n",
        "pivot = (\n",
        "    df[df[\"TX_FRAUD\"] == 1]\n",
        "    .pivot_table(index=\"TX_DAY_NAME\", columns=\"TX_HOUR\", values=\"TX_FRAUD\", aggfunc=\"count\", fill_value=0)\n",
        "    .reindex(weekday_order)\n",
        ")\n",
        "\n",
        "# Step 3: Plot heatmap\n",
        "plt.figure(figsize=(15, 6))\n",
        "sns.heatmap(pivot, cmap=\"Reds\", annot=True, fmt=\"d\")\n",
        "plt.title(\"Heatmap of Fraud by Day Name and Hour\")\n",
        "plt.xlabel(\"Hour\")\n",
        "plt.ylabel(\"Day\")\n",
        "plt.tight_layout()\n",
        "plt.show()\n"
      ]
    },
    {
      "cell_type": "markdown",
      "id": "3cc807c1",
      "metadata": {
        "id": "3cc807c1"
      },
      "source": [
        "### 📌 Observations from Fraud Time Analysis\n",
        "**Peak Fraud Hours:**\n",
        "Most fraudulent transactions occur between 10:00 AM and 3:00 PM (hours 10 to 15), suggesting fraudsters may be attempting to blend into normal business traffic.\n",
        "\n",
        "**High-Risk Days:**\n",
        "The highest fraud activity is observed from Tuesday to Friday, which falls in the mid-week window.\n",
        "\n",
        "**Temporal Pattern Insight:**\n",
        "This pattern indicates fraud may be strategically timed to align with peak transaction periods during working hours and mid-week days when monitoring may be less stringent or systems are more active."
      ]
    },
    {
      "cell_type": "markdown",
      "id": "b3df56c2",
      "metadata": {
        "id": "b3df56c2"
      },
      "source": [
        "### Analyzing Customer Behaviour and Trends"
      ]
    },
    {
      "cell_type": "code",
      "execution_count": null,
      "id": "cf92c1fe",
      "metadata": {
        "colab": {
          "base_uri": "https://localhost:8080/",
          "height": 585
        },
        "id": "cf92c1fe",
        "outputId": "58f9300b-2ec4-4eb5-f492-09046bf35654"
      },
      "outputs": [],
      "source": [
        "customer_fraud=df[df[\"TX_FRAUD\"]==1].groupby(\"CUSTOMER_ID\")[\"TX_FRAUD\"].count().sort_values(ascending=False).head(20).reset_index()\n",
        "customer_fraud.columns=[\"Customer\" , \"Fraud count\"]\n",
        "\n",
        "\n",
        "plt.figure(figsize=(12,6))\n",
        "sns.set_style(\"dark\")\n",
        "sns.barplot(data=customer_fraud , x=\"Customer\" , y=\"Fraud count\"  , palette='crest')\n",
        "plt.title(\"Top 20 Customer with Most Fraud Transaction\")\n",
        "plt.xlabel(\"Customer ID\")\n",
        "plt.ylabel(\"Fraud Count\")\n",
        "plt.xticks(rotation=45)\n",
        "plt.show()\n"
      ]
    },
    {
      "cell_type": "markdown",
      "id": "f4782cf8",
      "metadata": {
        "id": "f4782cf8"
      },
      "source": [
        "**These are Customers with the Most Fraudulent Transactions.**"
      ]
    },
    {
      "cell_type": "markdown",
      "id": "82c7ecbe",
      "metadata": {
        "id": "82c7ecbe"
      },
      "source": [
        "### Analyzing Customer Fraud by Terminal"
      ]
    },
    {
      "cell_type": "code",
      "execution_count": null,
      "id": "5b3314a8",
      "metadata": {
        "colab": {
          "base_uri": "https://localhost:8080/",
          "height": 807
        },
        "id": "5b3314a8",
        "outputId": "8113cbeb-338e-41a7-e695-40ac73789827"
      },
      "outputs": [],
      "source": [
        "fraud_pairs = (\n",
        "    df[df[\"TX_FRAUD\"] == 1]  # Filter only frauds\n",
        "    .groupby([\"CUSTOMER_ID\", \"TERMINAL_ID\"])[\"TX_FRAUD\"]\n",
        "    .count()\n",
        "    .reset_index()\n",
        "    .rename(columns={\"TX_FRAUD\": \"Fraud_Count\"})\n",
        "    .sort_values(\"Fraud_Count\", ascending=False).head(30)\n",
        ")\n",
        "fraud_pairs\n",
        "\n",
        "# Pivot to create a heatmap-friendly format\n",
        "heatmap_data = fraud_pairs.pivot_table(\n",
        "    index=\"CUSTOMER_ID\",\n",
        "    columns=\"TERMINAL_ID\",\n",
        "    values=\"Fraud_Count\",\n",
        "    fill_value=0\n",
        ")\n",
        "\n",
        "plt.figure(figsize=(12, 8))\n",
        "sns.heatmap(heatmap_data, cmap=\"Reds\", linewidths=0.5, linecolor='gray' )\n",
        "plt.title(\"Heatmap of Fraudulent Transactions by Customer & Terminal\")\n",
        "plt.xlabel(\"Terminal ID\")\n",
        "plt.ylabel(\"Customer ID\")\n",
        "plt.tight_layout()\n",
        "plt.show()\n"
      ]
    },
    {
      "cell_type": "markdown",
      "id": "85e15a3c",
      "metadata": {
        "id": "85e15a3c"
      },
      "source": [
        "### Fraud Heatmap Observation\n",
        "\n",
        "By analyzing the heatmap of fraudulent transactions by Customer ID and Terminal ID, we can interpret the following:\n",
        "\n",
        "Darker colors in the heatmap indicate a higher number of frauds associated with that specific customer-terminal pair. This means the customer has a strong fraudulent activity pattern with that terminal.\n",
        "\n",
        "Conversely, lighter or white colors represent fewer or no frauds, indicating less suspicious activity between the customer and terminal.\n",
        "\n",
        "Specifically, some notable high-fraud pairs include:\n",
        "\n",
        "- Customer 4815 at Terminal 7054\n",
        "\n",
        "- Customer 4805 at Terminal 1244\n",
        "\n",
        "- Customer 4625 at Terminal 9102\n",
        "\n",
        "- Customer 810 at Terminal 7054 .\n",
        "\n",
        "- Customer 4151 at Terminal 3104 .\n",
        "\n",
        "- Customer 1811 at Terminal 4876  etc.\n"
      ]
    },
    {
      "cell_type": "markdown",
      "id": "40a32a66",
      "metadata": {
        "id": "40a32a66"
      },
      "source": [
        "### Converting Additional Features:"
      ]
    },
    {
      "cell_type": "code",
      "execution_count": null,
      "id": "358207e4",
      "metadata": {
        "colab": {
          "base_uri": "https://localhost:8080/"
        },
        "id": "358207e4",
        "outputId": "91edbc99-c677-4638-d52c-06c16cd749fb"
      },
      "outputs": [],
      "source": [
        "df[\"TX_FRAUD_SCENARIO\"].unique()"
      ]
    },
    {
      "cell_type": "markdown",
      "id": "f2f3be29",
      "metadata": {
        "id": "f2f3be29"
      },
      "source": [
        "## **Summary of Fraud Scenarios:**\n",
        "\n",
        "### **Scenario 1** – Obvious High-Value Fraud\n",
        "Rule:\n",
        "Any transaction where TX_AMOUNT > 220 is marked as fraud.\n",
        "\n",
        "**Purpose:**\n",
        "Acts as a sanity check to validate if your system detects obvious frauds.\n",
        "\n",
        "### Detection Tip:\n",
        "Use rule-based or simple threshold models.\n",
        "\n",
        "---\n",
        "\n",
        "### **Scenario 2** – Compromised Terminals\n",
        "\n",
        "Rule:\n",
        "Each day, 2 terminals are randomly selected.\n",
        "All transactions on them for the next 28 days are marked as fraud.\n",
        "\n",
        "Real-World Analog:\n",
        "POS malware, skimming, or phishing of a terminal.\n",
        "\n",
        "Detection Tip:\n",
        "Track fraud activity per terminal over time\n",
        "Consider concept drift (terminal is not always compromised).\n",
        "\n",
        "---\n",
        "### **Scenario 3 – Stolen Card / Account Takeover**\n",
        "Rule:\n",
        "Each day, 3 customers are randomly selected.\n",
        "For the next 14 days, 1/3 of their transactions are:\n",
        "\n",
        "Amount multiplied by 5\n",
        "\n",
        "Marked as fraud\n",
        "\n",
        "Real-World Analog:\n",
        "Card-not-present fraud, account takeover, leaked credentials\n",
        "\n",
        "Detection Tip:\n",
        "Track changes in customer spending patterns\n",
        "Handle concept drift: the account is temporarily compromised\n",
        "\n",
        "---\n",
        "### Encoded Values of TX_FRAUD_SCENARIO\n",
        "**Encoded Value**\t**Description**\n",
        "\n",
        "0: No Fraud\n",
        "\n",
        "1: Amount > 220\n",
        "\n",
        "2: Terminal Compromised\n",
        "\n",
        "3: Customer Compromised\n",
        "\n"
      ]
    },
    {
      "cell_type": "markdown",
      "id": "66a8d761",
      "metadata": {
        "id": "66a8d761"
      },
      "source": [
        "### It is advisable to drop the Tx_Scenario column since it is strongly related to the target variable, which could lead to data leakage."
      ]
    },
    {
      "cell_type": "markdown",
      "id": "a373d2b7",
      "metadata": {
        "id": "a373d2b7"
      },
      "source": [
        "### **Feature Engineering and Feature Selection**"
      ]
    },
    {
      "cell_type": "markdown",
      "id": "712faabe",
      "metadata": {
        "id": "712faabe"
      },
      "source": [
        "### Handling Imbalanced Target by Balancing Majority and Minority Classes\n"
      ]
    },
    {
      "cell_type": "code",
      "execution_count": null,
      "id": "NH4XBbB5RATv",
      "metadata": {
        "id": "NH4XBbB5RATv"
      },
      "outputs": [],
      "source": [
        "import pandas as pd\n",
        "import numpy as np\n",
        "import os ,sys\n",
        "\n",
        "########################\n",
        "# Feature Engineering\n",
        "########################\n",
        "\n",
        "def create_is_night_tx(df):\n",
        "    \"\"\"Flag transactions that occur at night (0–6 AM).\"\"\"\n",
        "    df = df.copy()\n",
        "    df['IS_NIGHT_TX'] = df['TX_HOUR'].apply(lambda x: 1 if x < 6 else 0)\n",
        "    return df\n",
        "\n",
        "def create_is_weekend_tx(df):\n",
        "    \"\"\"Flag if the transaction occurred on a weekend (Saturday=5, Sunday=6).\"\"\"\n",
        "    df = df.copy()\n",
        "    df['TX_IS_WEEKEND'] = df['TX_WEEK_DAY'].apply(lambda x: 1 if x in [5, 6] else 0)\n",
        "    return df\n",
        "\n",
        "def create_is_tx_amount_high(df, threshold=180):\n",
        "    \"\"\"Flag if the amount is higher than a given threshold.\"\"\"\n",
        "    df = df.copy()\n",
        "    df['IS_TX_AMOUNT_HIGH'] = df['TX_AMOUNT'].apply(lambda x: 1 if x > threshold else 0)\n",
        "    return df\n",
        "\n",
        "def create_rolling_features(df, window_days=7):\n",
        "    \"\"\"Create rolling counts of transactions over last N days per customer and terminal.\"\"\"\n",
        "    df = df.copy()\n",
        "    df['TX_DATETIME'] = pd.to_datetime(df['TX_DATETIME'])\n",
        "    df = df.sort_values('TX_DATETIME')\n",
        "\n",
        "    # Make TX_DATETIME unique for rolling window (handle duplicate timestamps)\n",
        "    df['TX_DATETIME_Unique'] = df.groupby('TX_DATETIME').cumcount()\n",
        "    df['TX_DATETIME_UNIQUE_IDX'] = df['TX_DATETIME'] + pd.to_timedelta(df['TX_DATETIME_Unique'], unit='ms')\n",
        "\n",
        "    df.set_index('TX_DATETIME_UNIQUE_IDX', inplace=True)\n",
        "\n",
        "    df['CUSTOMER_TX_COUNT_7D'] = df.groupby('CUSTOMER_ID')['TX_AMOUNT'].rolling(f'{window_days}D').count().reset_index(level=0, drop=True)\n",
        "    df['TERMINAL_TX_COUNT_7D'] = df.groupby('TERMINAL_ID')['TX_AMOUNT'].rolling(f'{window_days}D').count().reset_index(level=0, drop=True)\n",
        "\n",
        "    df.reset_index(drop=True, inplace=True)\n",
        "    df.drop(columns=['TX_DATETIME_Unique'], inplace=True)\n",
        "\n",
        "    return df\n",
        "\n",
        "def create_amount_stats(df, window=7):\n",
        "    \"\"\"Create average and max amount per customer over last N days and overall average.\"\"\"\n",
        "    df = df.copy()\n",
        "    df = df.sort_values(by='TX_DATETIME')\n",
        "\n",
        "    df['CUSTOMER_AVG_AMOUNT_7D'] = df.groupby('CUSTOMER_ID')['TX_AMOUNT'].transform(\n",
        "        lambda x: x.rolling(window=window, min_periods=1).mean()\n",
        "    )\n",
        "\n",
        "    df['CUSTOMER_MAX_AMOUNT_7D'] = df.groupby('CUSTOMER_ID')['TX_AMOUNT'].transform(\n",
        "        lambda x: x.rolling(window=window, min_periods=1).max()\n",
        "    )\n",
        "\n",
        "    df['AVG_AMOUNT_CUSTOMER'] = df.groupby('CUSTOMER_ID')['TX_AMOUNT'].transform('mean')\n",
        "\n",
        "    return df\n",
        "\n",
        "def create_is_5x_avg(df):\n",
        "    \"\"\"Flag if transaction amount > 5x average of customer.\"\"\"\n",
        "    df = df.copy()\n",
        "    df['IS_TX_5X_AVG'] = (df['TX_AMOUNT'] > (5 * df['AVG_AMOUNT_CUSTOMER'])).astype(int)\n",
        "    return df\n",
        "\n",
        "def create_tx_month(df):\n",
        "    \"\"\"Extract month from TX_DATETIME.\"\"\"\n",
        "    df = df.copy()\n",
        "    df['TX_MONTH'] = pd.to_datetime(df['TX_DATETIME']).dt.month\n",
        "    return df\n",
        "\n",
        "def create_monthly_tx_counts(df):\n",
        "    \"\"\"Add monthly transaction counts for each customer and terminal.\"\"\"\n",
        "    df = df.copy()\n",
        "\n",
        "    if 'TX_MONTH' not in df.columns:\n",
        "        df = create_tx_month(df)\n",
        "\n",
        "    df['CUSTOMER_TX_COUNT_MONTH'] = df.groupby(['CUSTOMER_ID', 'TX_MONTH'])['TX_DATETIME'].transform('count')\n",
        "    df['TERMINAL_TX_COUNT_MONTH'] = df.groupby(['TERMINAL_ID', 'TX_MONTH'])['TX_DATETIME'].transform('count')\n",
        "\n",
        "    return df\n",
        "\n",
        "def create_ratio_features(df):\n",
        "    \"\"\"Create ratio features comparing TX_AMOUNT with averages and max.\"\"\"\n",
        "    df = df.copy()\n",
        "    df['TX_OVER_CUSTOMER_AVG'] = df['TX_AMOUNT'] / (df['AVG_AMOUNT_CUSTOMER'] + 1e-5)\n",
        "    df['TX_OVER_MAX_LAST_7D'] = df['TX_AMOUNT'] / (df['CUSTOMER_MAX_AMOUNT_7D'] + 1e-5)\n",
        "    return df\n",
        "\n",
        "\n",
        "def create_rolling_tx_count_1d(df):\n",
        "    \"\"\"\n",
        "    Adds rolling 1-day transaction count per customer.\n",
        "    Requires TX_DATETIME to be a datetime column.\n",
        "    \"\"\"\n",
        "    df = df.copy()\n",
        "    df['TX_DATETIME'] = pd.to_datetime(df['TX_DATETIME'])  # ensure it's datetime\n",
        "    df = df.sort_values(by=['CUSTOMER_ID', 'TX_DATETIME'])\n",
        "    df['TX_DATETIME_Unique'] = df.groupby('TX_DATETIME').cumcount()\n",
        "    df['TX_DATETIME_UNIQUE_IDX'] = df['TX_DATETIME'] + pd.to_timedelta(df['TX_DATETIME_Unique'], unit='ms')\n",
        "\n",
        "\n",
        "    df.set_index('TX_DATETIME_UNIQUE_IDX', inplace=True)\n",
        "\n",
        "    df['ROLLING_TX_COUNT_1D'] = (\n",
        "        df.groupby('CUSTOMER_ID')['TX_AMOUNT']\n",
        "        .rolling('1D')\n",
        "        .count()\n",
        "        .reset_index(level=0, drop=True)\n",
        "    )\n",
        "\n",
        "    df.reset_index(drop=True, inplace=True)\n",
        "    df.drop(columns=['TX_DATETIME_Unique'], inplace=True)\n",
        "\n",
        "    return df\n",
        "\n",
        "def create_terminal_risk(df: pd.DataFrame, past_df: pd.DataFrame = None) -> pd.DataFrame:\n",
        "    \"\"\"\n",
        "    Assigns a risk score to each TERMINAL_ID based on historical fraud rate.\n",
        "\n",
        "    - In training mode: calculates from df itself.\n",
        "    - In prediction mode: calculates from past_df to avoid leakage.\n",
        "\n",
        "    Parameters:\n",
        "        df (pd.DataFrame): The current or combined dataframe to apply terminal risk.\n",
        "        past_df (pd.DataFrame): Past transactions used for terminal fraud rate (in prediction).\n",
        "\n",
        "    Returns:\n",
        "        pd.DataFrame: DataFrame with TERMINAL_RISK column added.\n",
        "    \"\"\"\n",
        "    df = df.copy()\n",
        "\n",
        "    if \"TX_FRAUD\" in df.columns:\n",
        "        # Training mode: calculate risk from df itself\n",
        "        terminal_fraud_rate = df.groupby(\"TERMINAL_ID\")[\"TX_FRAUD\"].mean()\n",
        "        df[\"TERMINAL_RISK\"] = df[\"TERMINAL_ID\"].map(terminal_fraud_rate).fillna(0)\n",
        "\n",
        "    else:\n",
        "        print('TX_FRAUD feature is not Available')\n",
        "\n",
        "    return df\n",
        "\n",
        "\n",
        "def create_weekend_night_flag(df):\n",
        "    \"\"\"Flag transactions that occur on weekend nights.\"\"\"\n",
        "    df = df.copy()\n",
        "    df['WEEKEND_NIGHT'] = ((df['TX_IS_WEEKEND'] == 1) & (df['IS_NIGHT_TX'] == 1)).astype(int)\n",
        "    return df\n",
        "\n",
        "def create_time_since_last_tx(df):\n",
        "    \"\"\"Calculate time in seconds since last transaction per customer.\"\"\"\n",
        "    df = df.copy()\n",
        "    df = df.sort_values(['CUSTOMER_ID', 'TX_DATETIME'])\n",
        "    df['TIME_SINCE_LAST_TX'] = df.groupby('CUSTOMER_ID')['TX_DATETIME'].diff().dt.total_seconds()\n",
        "    df['TIME_SINCE_LAST_TX'] = df['TIME_SINCE_LAST_TX'].fillna(999999)  # Large number if no prior tx\n",
        "    return df\n",
        "\n",
        "def add_weekday_features(df: pd.DataFrame) -> pd.DataFrame:\n",
        "    \"\"\"\n",
        "    Adds weekday-related features to the DataFrame:\n",
        "    - TX_HOUR: hour of the transaction\n",
        "    - TX_WEEK_DAY: day of the week (0=Monday, 6=Sunday)\n",
        "\n",
        "    Parameters:\n",
        "    -----------\n",
        "    df : pd.DataFrame\n",
        "        DataFrame with at least a 'TX_DATETIME' column.\n",
        "\n",
        "    Returns:\n",
        "    --------\n",
        "    pd.DataFrame\n",
        "        DataFrame with new weekday features added.\n",
        "    \"\"\"\n",
        "    df = df.copy()\n",
        "    df[\"TX_DATETIME\"] = pd.to_datetime(df[\"TX_DATETIME\"])\n",
        "    df[\"TX_HOUR\"] = df[\"TX_DATETIME\"].dt.hour\n",
        "    df[\"TX_WEEK_DAY\"] = df[\"TX_DATETIME\"].dt.weekday\n",
        "    return df\n",
        "\n"
      ]
    },
    {
      "cell_type": "code",
      "execution_count": null,
      "id": "xdnd94zJRgxG",
      "metadata": {
        "id": "xdnd94zJRgxG"
      },
      "outputs": [],
      "source": [
        "def generate_features(current_df: pd.DataFrame, \n",
        "                      past_df: pd.DataFrame = None, \n",
        "                      required_columns: list = None, \n",
        "                      mode: str = \"training\") -> pd.DataFrame:\n",
        "    \"\"\"\n",
        "    Generates features for fraud detection based on mode.\n",
        "    \"\"\"\n",
        "    if current_df is None or current_df.empty:\n",
        "        raise ValueError(\"`current_df` must be a non-empty DataFrame\")\n",
        "\n",
        "    try:\n",
        "        current_df = add_weekday_features(current_df)\n",
        "\n",
        "        if mode == \"prediction\":\n",
        "            \n",
        "            if past_df is not None and not past_df.empty:\n",
        "                if required_columns:\n",
        "                    missing_cols_past = set(required_columns) - set(past_df.columns)\n",
        "                    if missing_cols_past:\n",
        "                        raise ValueError(f\"Missing columns in past_df: {missing_cols_past}\")\n",
        "                    past_df = past_df[required_columns].copy()\n",
        "                else:\n",
        "                    past_df = past_df.copy()\n",
        "\n",
        "                past_df = add_weekday_features(past_df)\n",
        "\n",
        "                # Filter to avoid leakage\n",
        "                cutoff_time = pd.to_datetime(current_df[\"TX_DATETIME\"]).min()\n",
        "                past_df[\"TX_DATETIME\"] = pd.to_datetime(past_df[\"TX_DATETIME\"])\n",
        "                past_df = past_df[past_df[\"TX_DATETIME\"] < cutoff_time]\n",
        "\n",
        "                combined_df = pd.concat([past_df, current_df]).sort_values(\"TX_DATETIME\")\n",
        "            else:\n",
        "                combined_df = current_df.copy()\n",
        "\n",
        "        elif mode == \"training\":\n",
        "            past_df=None\n",
        "            if required_columns:\n",
        "                missing_cols = set(required_columns) - set(current_df.columns)\n",
        "                if missing_cols:\n",
        "                    raise ValueError(f\"Missing columns in training data: {missing_cols}\")\n",
        "                combined_df = current_df[required_columns].copy()\n",
        "            else:\n",
        "                combined_df = current_df.copy()\n",
        "        else:\n",
        "            raise ValueError(\"`mode` must be either 'training' or 'prediction'\")\n",
        "\n",
        "        # Base features\n",
        "        combined_df = create_is_night_tx(combined_df)\n",
        "        combined_df = create_is_weekend_tx(combined_df)\n",
        "        combined_df = create_is_tx_amount_high(combined_df)\n",
        "        combined_df = create_tx_month(combined_df)\n",
        "        combined_df = create_weekend_night_flag(combined_df)\n",
        "\n",
        "        # Rolling & statistical features\n",
        "        try:\n",
        "            combined_df = create_amount_stats(combined_df)\n",
        "            combined_df = create_is_5x_avg(combined_df)\n",
        "            combined_df = create_rolling_features(combined_df)\n",
        "            combined_df = create_monthly_tx_counts(combined_df)\n",
        "            combined_df = create_ratio_features(combined_df)\n",
        "            combined_df = create_rolling_tx_count_1d(combined_df)\n",
        "            combined_df = create_terminal_risk(combined_df, past_df if mode == \"prediction\" else None)\n",
        "            combined_df = create_time_since_last_tx(combined_df)\n",
        "        except Exception as fe:\n",
        "            raise fe\n",
        "\n",
        "        # Final output matching current transactions only   \n",
        "        current_df = combined_df.loc[\n",
        "            combined_df[\"TRANSACTION_ID\"].isin(current_df[\"TRANSACTION_ID\"])\n",
        "        ].copy()\n",
        "\n",
        "        return current_df\n",
        "\n",
        "    except Exception as e:\n",
        "        raise e"
      ]
    },
    {
      "cell_type": "code",
      "execution_count": null,
      "id": "5bbd94b7",
      "metadata": {
        "id": "5bbd94b7"
      },
      "outputs": [],
      "source": [
        "import pandas as pd\n",
        "from sklearn.model_selection import train_test_split\n",
        "from sklearn.utils import resample\n",
        "from imblearn.over_sampling import SMOTE\n",
        "\n",
        "\n",
        "def prepare_data_with_balancing(df, generate_features_fn, required_columns,\n",
        "                                target_col='TX_FRAUD' , to_drop=list):\n",
        "    \"\"\"\n",
        "    Generates features, balances data using downsampling + SMOTE, and splits into train/test.\n",
        "\n",
        "    Args:\n",
        "        df (pd.DataFrame): Raw input data.\n",
        "        generate_features_fn (function): Feature engineering function.\n",
        "        required_columns (list): Base columns used during feature generation.\n",
        "        target_col (str): Target label column name (e.g., 'TX_FRAUD').\n",
        "        to_drop(list): Columns to drop before training.\n",
        "    Returns:\n",
        "        X_train, X_test, y_train, y_test\n",
        "    \"\"\"\n",
        "\n",
        "    # 1. Generate features on the entire dataset\n",
        "    df = generate_features_fn(df.copy(), required_columns)\n",
        "\n",
        "    # 2. Downsample majority class BEFORE train-test split\n",
        "    majority_df = df[df[target_col] == 0]\n",
        "    minority_df = df[df[target_col] == 1]\n",
        "\n",
        "    print(f\"Original class distribution:\")\n",
        "    print(df[target_col].value_counts())\n",
        "\n",
        "    # Downsample majority class\n",
        "    majority_downsampled = resample(\n",
        "        majority_df,\n",
        "        replace=False,                # downsampling, not upsampling\n",
        "        n_samples=100000,             # adjust based on balance preference\n",
        "        random_state=42\n",
        "    )\n",
        "\n",
        "    balanced_df = pd.concat([majority_downsampled, minority_df])\n",
        "    balanced_df = balanced_df.sample(frac=1, random_state=42).reset_index(drop=True)\n",
        "\n",
        "    print(\"\\nClass distribution after downsampling:\")\n",
        "    print(balanced_df[target_col].value_counts())\n",
        "\n",
        "    # 3. Split into train/test\n",
        "    train_df, test_df = train_test_split(\n",
        "        balanced_df,\n",
        "        stratify=balanced_df[target_col],\n",
        "        test_size=0.2,\n",
        "        random_state=42\n",
        "    )\n",
        "\n",
        "    # 4. Split into features and labels\n",
        "    columns_to_drop = required_columns\n",
        "\n",
        "    X_train = train_df.drop(columns=to_drop, axis=1)\n",
        "    y_train = train_df[target_col]\n",
        "\n",
        "    X_test = test_df.drop(columns=to_drop, axis=1)\n",
        "    y_test = test_df[target_col]\n",
        "\n",
        "    # 5. Apply SMOTE to balance training data\n",
        "    sm = SMOTE(sampling_strategy=0.6,random_state=42)\n",
        "    X_train_resampled, y_train_resampled = sm.fit_resample(X_train, y_train)\n",
        "\n",
        "    print(\"\\nTraining set after SMOTE:\")\n",
        "    print(pd.Series(y_train_resampled).value_counts())\n",
        "\n",
        "    print(\"\\nTest set distribution (unchanged):\")\n",
        "    print(y_test.value_counts())\n",
        "\n",
        "    return X_train_resampled, X_test, y_train_resampled, y_test\n"
      ]
    },
    {
      "cell_type": "markdown",
      "id": "712c1389",
      "metadata": {
        "id": "712c1389"
      },
      "source": [
        " ### After generating new features, I will drop columns such as TX_DATETIME, TRANSACTION_ID, TERMINAL_ID, and CUSTOMER_ID."
      ]
    },
    {
      "cell_type": "code",
      "execution_count": null,
      "id": "a6c5ac4a",
      "metadata": {},
      "outputs": [],
      "source": [
        "df.columns"
      ]
    },
    {
      "cell_type": "code",
      "execution_count": null,
      "id": "723fab49",
      "metadata": {
        "colab": {
          "base_uri": "https://localhost:8080/"
        },
        "id": "723fab49",
        "outputId": "54eeddbe-319a-4e13-c6f3-281af772d0c1"
      },
      "outputs": [],
      "source": [
        "# Example usage:\n",
        "required_columns = [\"CUSTOMER_ID\", \"TERMINAL_ID\", \"TX_AMOUNT\", \"TX_DATETIME\", \"TX_FRAUD\", \"TRANSACTION_ID\"]\n",
        "df_copy=df[required_columns].copy()\n",
        "\n",
        "X_train , X_test , y_train , y_test=prepare_data_with_balancing(df=df_copy ,\n",
        "                                                                generate_features_fn=generate_features,\n",
        "                                                                required_columns=required_columns ,\n",
        "                                                                target_col='TX_FRAUD' , \n",
        "                                                                to_drop=required_columns)\n"
      ]
    },
    {
      "cell_type": "code",
      "execution_count": null,
      "id": "d3377fd6",
      "metadata": {
        "colab": {
          "base_uri": "https://localhost:8080/",
          "height": 226
        },
        "id": "d3377fd6",
        "outputId": "478b3316-ec90-47cf-dbb9-c29d44b855f8"
      },
      "outputs": [],
      "source": [
        "X_train.head()"
      ]
    },
    {
      "cell_type": "markdown",
      "id": "dREcNbk_NR5s",
      "metadata": {
        "id": "dREcNbk_NR5s"
      },
      "source": [
        "### 🧪 **Resulting New Features**\n",
        "\n",
        "| **Feature Name**            | **Description**                                                        |\n",
        "|-----------------------------|------------------------------------------------------------------------|\n",
        "| `IS_TX_AMOUNT_HIGH`         | Flag if TX amount > 220                                                |\n",
        "| `TERMINAL_TX_COUNT_7D`      | Rolling 7-day count of terminal transactions                           |\n",
        "| `CUSTOMER_TX_COUNT_7D`      | Rolling 7-day count of customer transactions                           |\n",
        "| `CUSTOMER_AVG_AMOUNT_7D`    | 7-day average TX amount per customer                                   |\n",
        "| `CUSTOMER_MAX_AMOUNT_7D`    | 7-day max TX amount per customer                                       |\n",
        "| `AVG_AMOUNT_CUSTOMER`       | Historical average TX amount per customer (entire history)             |\n",
        "| `IS_TX_5X_AVG`              | Flag if TX is 5× average customer spend                                |\n",
        "| `IS_NIGHT_TX`               | Flag if transaction happens before 6 AM                                |\n",
        "| `TX_IS_WEEKEND`             | Flag if the transaction happened on Saturday/Sunday                    |\n",
        "| `CUSTOMER_TX_COUNT_MONTH`   | Monthly count of customer transactions                                 |\n",
        "| `TX_MONTH`                  | Monthly Customer Transactions                                          |\n",
        "| `TERMINAL_TX_COUNT_MONTH`   | Monthly count of terminal transactions                                 |\n",
        "| `TX_OVER_CUSTOMER_AVG`      | Ratio of TX amount to customer's average transaction amount            |\n",
        "| `TX_OVER_MAX_LAST_7D`       | Ratio of TX amount to customer's max transaction amount in last 7 days |\n",
        "| `ROLLING_TX_COUNT_1D`       | Number of transactions by customer in the past 1 day                   |\n",
        "| `TERMINAL_RISK`             | Fraud rate per terminal based on historical fraud occurrences          |\n",
        "| `WEEKEND_NIGHT`             | Flag for transactions occurring on weekend nights                      |\n",
        "| `TIME_SINCE_LAST_TX`        | Time in seconds since customer's previous transaction                  |\n"
      ]
    },
    {
      "cell_type": "markdown",
      "id": "0ac769e4",
      "metadata": {
        "id": "0ac769e4"
      },
      "source": [
        "### Explanation of Class Distribution in Train and Test Sets\n",
        "\n",
        "- **Training set:**\n",
        "  - Class 0 (Non-fraud): 80000 samples\n",
        "  - Class 1 (Fraud): 80000 samples\n",
        "  - The training data is balanced by downsampling the majority class (non-fraud) and oversampling the minority class (fraud).  \n",
        "  - This balanced training set helps the model learn equally from both classes, improving its ability to detect fraud.\n",
        "\n",
        "- **Test set:**\n",
        "  - Class 0 (Non-fraud): 20000 samples\n",
        "  - Class 1 (Fraud): 3000 samples\n",
        "  - The test data retains the original, highly imbalanced distribution found in real-world data.\n",
        "  - This ensures that model evaluation reflects real-world performance and challenges, where fraud cases are rare.\n",
        "\n",
        "---\n",
        "\n",
        "**Summary:**  \n",
        "Balancing the training data helps the model learn better, while keeping the test data imbalanced provides a realistic measure of how the model will perform in practice.\n"
      ]
    },
    {
      "cell_type": "markdown",
      "id": "500dca27",
      "metadata": {
        "id": "500dca27"
      },
      "source": [
        "## **Model Training**"
      ]
    },
    {
      "cell_type": "code",
      "execution_count": null,
      "id": "f7bcfb86",
      "metadata": {
        "colab": {
          "base_uri": "https://localhost:8080/"
        },
        "id": "f7bcfb86",
        "outputId": "f59aad3a-113c-427b-c68b-33642876f546"
      },
      "outputs": [],
      "source": [
        "# Importing various machine learning models for classification\n",
        "from sklearn.tree import DecisionTreeClassifier  # Decision Tree Classifier\n",
        "from sklearn.linear_model import LogisticRegression  # Logistic Regression\n",
        "from sklearn.svm import SVC  # Support Vector Classifier (SVC)\n",
        "from xgboost import XGBClassifier  # XGBoost Classifier\n",
        "from sklearn.ensemble import RandomForestClassifier, AdaBoostClassifier, GradientBoostingClassifier  # Ensemble methods (Random Forest, AdaBoost, Gradient Boosting)\n",
        "from sklearn.metrics import accuracy_score, recall_score, precision_score, f1_score  # Importing metrics for model evaluation\n",
        "from sklearn.neighbors import KNeighborsClassifier  # K-Nearest Neighbors Classifier\n",
        "\n",
        "# Defining a dictionary of models to evaluate\n",
        "models = {\n",
        "    \"RandomForest Classifier\": RandomForestClassifier(),\n",
        "    \"XGBClassifier\": XGBClassifier(),\n",
        "    \"DecisionTreeClassifier\": DecisionTreeClassifier(),\n",
        "    \"AdaBoostClassifier\": AdaBoostClassifier() ,\n",
        "    \"LogisticRegression\": LogisticRegression() ,\n",
        "    \"DecisionTreeClassifier\":DecisionTreeClassifier() ,\n",
        "    \"KNeighborsClassifier\" :KNeighborsClassifier()\n",
        "\n",
        "\n",
        "}\n",
        "\n",
        "# Function to train and evaluate different machine learning models\n",
        "def model_training(models, X_train, X_test, y_train, y_test):\n",
        "    # Initialize an empty list to store results\n",
        "    results = []\n",
        "\n",
        "    # Print a message to indicate the start of model training\n",
        "    print(f'{\">\"*20 } Started Training Models {\"<\"*20}')\n",
        "\n",
        "    # Loop through each model in the provided dictionary of models\n",
        "    for name, model in models.items():\n",
        "        print(f'\\n\\nTraining {name} Model.....')  # Indicate which model is being trained\n",
        "\n",
        "        # Train the model using the training data\n",
        "        model.fit(X_train, y_train)\n",
        "\n",
        "        # Predict the labels on the test set\n",
        "        y_pred = model.predict(X_test)\n",
        "\n",
        "        # Calculate performance metrics\n",
        "        accu_score = accuracy_score(y_test, y_pred)  # Accuracy score\n",
        "        print(f\"Accuracy Score for {name} Model: {accu_score}\")\n",
        "\n",
        "        pre_score = precision_score(y_test, y_pred)  # Precision score\n",
        "        rec_score = recall_score(y_test, y_pred)  # Recall score\n",
        "        f1score = f1_score(y_test, y_pred)  # F1 score\n",
        "\n",
        "        # Store the results in a dictionary and append to the results list\n",
        "        results.append({\n",
        "            \"Model\": name,\n",
        "            \"accuracy_score\": accu_score,\n",
        "            \"precision_score\": pre_score,\n",
        "            \"recall_score\": rec_score,\n",
        "            \"f1_score\": f1score\n",
        "        })\n",
        "\n",
        "    # Convert the results list to a pandas DataFrame for better visualization\n",
        "    results = pd.DataFrame(results)\n",
        "\n",
        "    # Return the results DataFrame\n",
        "    return results\n",
        "\n",
        "results=model_training(models,X_train ,X_test , y_train ,  y_test)"
      ]
    },
    {
      "cell_type": "markdown",
      "id": "f56fbf42",
      "metadata": {
        "id": "f56fbf42"
      },
      "source": [
        "### XGBoost Model is Much Better than Other Models"
      ]
    },
    {
      "cell_type": "code",
      "execution_count": null,
      "id": "d03df5ac",
      "metadata": {
        "colab": {
          "base_uri": "https://localhost:8080/",
          "height": 237
        },
        "id": "d03df5ac",
        "outputId": "2c32f008-7616-4a07-f96c-cb4352c6eb61"
      },
      "outputs": [],
      "source": [
        "results"
      ]
    },
    {
      "cell_type": "markdown",
      "id": "aa500d18",
      "metadata": {
        "id": "aa500d18"
      },
      "source": [
        "# XGBoost Model Evaluation Observations\n",
        "\n",
        "- **Accuracy (0.972)**  \n",
        "  The model correctly predicts about 97.2% of all transactions. While accuracy is high, it can be misleading in imbalanced datasets where non-fraud dominates.\n",
        "\n",
        "- **Precision (0.848)**  \n",
        "  Of all transactions predicted as fraud, 84.8% were actually fraudulent. This indicates a low false positive rate, meaning fewer legitimate transactions are wrongly flagged.\n",
        "\n",
        "- **Recall (0.956)**  \n",
        "  The model detects 95.6% of all actual fraud cases. High recall is crucial because missing fraudulent transactions can be very costly.\n",
        "\n",
        "- **F1 Score (0.899)**  \n",
        "  The harmonic mean of precision and recall shows a strong balance, meaning the model is effective at catching fraud while minimizing false alarms.\n",
        "\n",
        "---\n",
        "\n",
        "### Summary\n",
        "\n",
        "- The **high recall** ensures nearly all fraud cases are detected, which is essential in fraud detection scenarios.  \n",
        "- The **high precision** reduces false alarms, improving customer experience and reducing unnecessary investigations.  \n",
        "- The **strong F1 score** reflects a good trade-off between precision and recall, making the model reliable for production.  \n",
        "- Overall, this model demonstrates excellent performance on imbalanced data and is well-suited for deployment in real-world fraud detection systems.\n"
      ]
    },
    {
      "cell_type": "markdown",
      "id": "5a4d0899",
      "metadata": {
        "id": "5a4d0899"
      },
      "source": [
        "### Tunning XGBoost Model"
      ]
    },
    {
      "cell_type": "code",
      "execution_count": 30,
      "id": "f4e1db64",
      "metadata": {
        "colab": {
          "base_uri": "https://localhost:8080/"
        },
        "id": "f4e1db64",
        "outputId": "99a61905-e88c-4b4c-a627-9efb7e60a9d4"
      },
      "outputs": [
        {
          "name": "stdout",
          "output_type": "stream",
          "text": [
            "Best Parameters: {'colsample_bytree': 0.9754210836063001, 'learning_rate': 0.010233629752304298, 'max_depth': 6, 'n_estimators': 120, 'subsample': 0.8469926038510867}\n",
            "Train Accuracy: 0.9754\n",
            "Test Accuracy: 0.9666\n",
            "\n",
            "Classification Report (Test):\n",
            "              precision    recall  f1-score   support\n",
            "\n",
            "           0       1.00      0.97      0.98     20001\n",
            "           1       0.81      0.97      0.88      2936\n",
            "\n",
            "    accuracy                           0.97     22937\n",
            "   macro avg       0.90      0.97      0.93     22937\n",
            "weighted avg       0.97      0.97      0.97     22937\n",
            "\n"
          ]
        }
      ],
      "source": [
        "from sklearn.model_selection import RandomizedSearchCV\n",
        "from sklearn.metrics import classification_report\n",
        "from scipy.stats import uniform, randint\n",
        "\n",
        "\n",
        "# Define the model\n",
        "xgb = XGBClassifier(\n",
        "    use_label_encoder=False,\n",
        "    eval_metric='logloss',\n",
        "    random_state=42,\n",
        "    scale_pos_weight=(len(y_train[y_train==0]) / len(y_train[y_train==1]))  # handle imbalance\n",
        ")\n",
        "\n",
        "# Define hyperparameter space\n",
        "param_dist = {\n",
        "    'n_estimators': randint(100, 300),\n",
        "    'max_depth': randint(3, 10),\n",
        "    'learning_rate': uniform(0.01, 0.3),\n",
        "    'subsample': uniform(0.6, 0.4),\n",
        "    'colsample_bytree': uniform(0.6, 0.4)\n",
        "}\n",
        "\n",
        "# Setup RandomizedSearchCV\n",
        "random_search = RandomizedSearchCV(\n",
        "    estimator=xgb,\n",
        "    param_distributions=param_dist,\n",
        "    n_iter=25,\n",
        "    scoring='f1',\n",
        "    cv=3,\n",
        "    verbose=1,\n",
        "    n_jobs=-1,\n",
        "    random_state=42\n",
        ")\n",
        "\n",
        "# Fit the model\n",
        "random_search.fit(X_train, y_train)\n",
        "\n",
        "# Best model\n",
        "best_model = random_search.best_estimator_\n",
        "\n",
        "# Predict\n",
        "train_pred = best_model.predict(X_train)\n",
        "test_pred = best_model.predict(X_test)\n",
        "\n",
        "# Evaluate\n",
        "print(f\"Best Parameters: {random_search.best_params_}\")\n",
        "print(f\"Train Accuracy: {accuracy_score(y_train, train_pred):.4f}\")\n",
        "print(f\"Test Accuracy: {accuracy_score(y_test, test_pred):.4f}\")\n",
        "print(\"\\nClassification Report (Test):\")\n",
        "print(classification_report(y_test, test_pred))\n"
      ]
    },
    {
      "cell_type": "code",
      "execution_count": 31,
      "id": "8699961e",
      "metadata": {
        "colab": {
          "base_uri": "https://localhost:8080/",
          "height": 487
        },
        "id": "8699961e",
        "outputId": "945df956-39c7-4306-859a-ece48693d4d8"
      },
      "outputs": [
        {
          "data": {
            "image/png": "[encoded data removed]",
            "text/plain": [
              "<Figure size 800x500 with 1 Axes>"
            ]
          },
          "metadata": {},
          "output_type": "display_data"
        }
      ],
      "source": [
        "from sklearn.metrics import precision_recall_curve\n",
        "\n",
        "# 1. Get predicted probabilities for positive class\n",
        "y_scores = best_model.predict_proba(X_test)[:, 1]\n",
        "\n",
        "# 2. Compute precision, recall, thresholds\n",
        "precision, recall, thresholds = precision_recall_curve(y_test, y_scores)\n",
        "\n",
        "# Note: precision_recall_curve returns thresholds with length = len(precision) - 1\n",
        "# So, we plot recall[:-1] against thresholds\n",
        "\n",
        "# 3. Plot Recall vs Threshold\n",
        "plt.figure(figsize=(8,5))\n",
        "plt.plot(thresholds, recall[:-1], label='Recall', color='blue')\n",
        "plt.plot(thresholds, precision[:-1], label='Precision', color='orange')\n",
        "plt.xlabel('Threshold')\n",
        "plt.ylabel('Score')\n",
        "plt.title('Precision and Recall vs Decision Threshold')\n",
        "plt.legend()\n",
        "plt.grid(True)\n",
        "plt.show()\n"
      ]
    },
    {
      "cell_type": "markdown",
      "id": "796b1409",
      "metadata": {
        "id": "796b1409"
      },
      "source": [
        "### Let's check the top 15 important features and retrain our model using them"
      ]
    },
    {
      "cell_type": "code",
      "execution_count": 32,
      "id": "96b0d3a3",
      "metadata": {
        "colab": {
          "base_uri": "https://localhost:8080/",
          "height": 755
        },
        "id": "96b0d3a3",
        "outputId": "266f8c6e-987f-4a24-ea91-e4222bea4d13"
      },
      "outputs": [
        {
          "name": "stdout",
          "output_type": "stream",
          "text": [
            "                    feature  importance\n",
            "14     TX_OVER_CUSTOMER_AVG      1385.0\n",
            "7    CUSTOMER_MAX_AMOUNT_7D      1000.0\n",
            "17            TERMINAL_RISK       910.0\n",
            "15      TX_OVER_MAX_LAST_7D       757.0\n",
            "11     TERMINAL_TX_COUNT_7D       289.0\n",
            "8       AVG_AMOUNT_CUSTOMER       251.0\n",
            "5                  TX_MONTH       229.0\n",
            "6    CUSTOMER_AVG_AMOUNT_7D       166.0\n",
            "13  TERMINAL_TX_COUNT_MONTH       135.0\n",
            "10     CUSTOMER_TX_COUNT_7D       113.0\n",
            "3             TX_IS_WEEKEND       102.0\n",
            "18       TIME_SINCE_LAST_TX        97.0\n",
            "2               IS_NIGHT_TX        79.0\n",
            "1               TX_WEEK_DAY        72.0\n",
            "12  CUSTOMER_TX_COUNT_MONTH        69.0\n"
          ]
        },
        {
          "data": {
            "image/png": "[encoded data removed]",
            "text/plain": [
              "<Figure size 1000x600 with 1 Axes>"
            ]
          },
          "metadata": {},
          "output_type": "display_data"
        }
      ],
      "source": [
        "# Get feature importance scores\n",
        "importance_dict = best_model.get_booster().get_score(importance_type='weight')\n",
        "\n",
        "# Convert to DataFrame for easy sorting and display\n",
        "importance_df = pd.DataFrame({\n",
        "    'feature': list(importance_dict.keys()),\n",
        "    'importance': list(importance_dict.values())\n",
        "})\n",
        "\n",
        "# Sort features by importance descending\n",
        "importance_df = importance_df.sort_values(by='importance', ascending=False).head(15)\n",
        "\n",
        "print(importance_df)\n",
        "\n",
        "# Optional: Plot feature importances\n",
        "plt.figure(figsize=(10,6))\n",
        "sns.set_style(\"ticks\")\n",
        "sns.set_palette(\"Set2\")\n",
        "plt.barh(importance_df['feature'], importance_df['importance'])\n",
        "plt.gca().invert_yaxis()  # Highest importance on top\n",
        "plt.xlabel('Feature Importance (weight)')\n",
        "plt.title('XGBoost Feature Importances')\n",
        "plt.show()\n"
      ]
    },
    {
      "cell_type": "markdown",
      "id": "51205ccd",
      "metadata": {
        "id": "51205ccd"
      },
      "source": [
        "### Top Features Selected for Retraining"
      ]
    },
    {
      "cell_type": "code",
      "execution_count": 33,
      "id": "50841cb7",
      "metadata": {
        "colab": {
          "base_uri": "https://localhost:8080/",
          "height": 397
        },
        "id": "50841cb7",
        "outputId": "37de29f7-9fb8-41c9-851f-ff3286827b92"
      },
      "outputs": [
        {
          "data": {
            "text/plain": [
              "0        TX_OVER_CUSTOMER_AVG\n",
              "1      CUSTOMER_MAX_AMOUNT_7D\n",
              "2               TERMINAL_RISK\n",
              "3         TX_OVER_MAX_LAST_7D\n",
              "4        TERMINAL_TX_COUNT_7D\n",
              "5         AVG_AMOUNT_CUSTOMER\n",
              "6                    TX_MONTH\n",
              "7      CUSTOMER_AVG_AMOUNT_7D\n",
              "8     TERMINAL_TX_COUNT_MONTH\n",
              "9        CUSTOMER_TX_COUNT_7D\n",
              "10              TX_IS_WEEKEND\n",
              "11         TIME_SINCE_LAST_TX\n",
              "12                IS_NIGHT_TX\n",
              "13                TX_WEEK_DAY\n",
              "14    CUSTOMER_TX_COUNT_MONTH\n",
              "Name: feature, dtype: object"
            ]
          },
          "execution_count": 33,
          "metadata": {},
          "output_type": "execute_result"
        }
      ],
      "source": [
        "columns_retrained=importance_df[\"feature\"].reset_index(drop=True)\n",
        "columns_retrained"
      ]
    },
    {
      "cell_type": "markdown",
      "id": "62538c36",
      "metadata": {
        "id": "62538c36"
      },
      "source": [
        "### XGBoost Model with Top 15 Features"
      ]
    },
    {
      "cell_type": "code",
      "execution_count": 34,
      "id": "bed37247",
      "metadata": {
        "colab": {
          "base_uri": "https://localhost:8080/"
        },
        "id": "bed37247",
        "outputId": "a3cd148f-79df-45c2-b86c-6cd084347f60"
      },
      "outputs": [
        {
          "name": "stdout",
          "output_type": "stream",
          "text": [
            "Train Accuracy: 0.9754\n",
            "Test Accuracy: 0.9666\n",
            "\n",
            "Classification Report (Test):\n",
            "              precision    recall  f1-score   support\n",
            "\n",
            "           0       1.00      0.97      0.98     20001\n",
            "           1       0.81      0.98      0.88      2936\n",
            "\n",
            "    accuracy                           0.97     22937\n",
            "   macro avg       0.90      0.97      0.93     22937\n",
            "weighted avg       0.97      0.97      0.97     22937\n",
            "\n"
          ]
        }
      ],
      "source": [
        "\n",
        "best_model.fit(X_train[columns_retrained], y_train)\n",
        "\n",
        "train_pred=best_model.predict(X_train[columns_retrained])\n",
        "test_pred= best_model.predict(X_test[columns_retrained])\n",
        "y_probs = best_model.predict_proba(X_test[columns_retrained])\n",
        "\n",
        "print(f\"Train Accuracy: {accuracy_score(y_train, train_pred):.4f}\")\n",
        "print(f\"Test Accuracy: {accuracy_score(y_test, test_pred):.4f}\")\n",
        "print(\"\\nClassification Report (Test):\")\n",
        "print(classification_report(y_test, test_pred))\n"
      ]
    },
    {
      "cell_type": "code",
      "execution_count": 35,
      "id": "cd341c45",
      "metadata": {
        "id": "cd341c45"
      },
      "outputs": [],
      "source": [
        "import dill\n",
        "\n",
        "with open(\"best_model.pkl\" , \"wb\") as file_name:\n",
        "    dill.dump(best_model , file_name)"
      ]
    },
    {
      "cell_type": "markdown",
      "id": "bc905975",
      "metadata": {
        "id": "bc905975"
      },
      "source": [
        "# Final Feature Importance Explanation (Fraud Detection Project)\n",
        "\n",
        "## 📌 Why Feature Importance Matters\n",
        "\n",
        "Feature importance tells us **which input features most influence the model’s decisions**.  \n",
        "In fraud detection, this is especially important because it helps:\n",
        "\n",
        "- Understand **which behavior patterns are most suspicious**\n",
        "- Improve model quality by focusing on **useful and non-leaky features**\n",
        "- Ensure **transparency** for auditors, regulators, or internal stakeholders\n",
        "- Guide future improvements and **data collection priorities**\n",
        "\n",
        "---\n",
        "\n",
        "## 📈 How Feature Importance Was Computed\n",
        "\n",
        "We used the `XGBoost` model, which provides built-in feature importance scores.  \n",
        "These scores are based on:\n",
        "\n",
        "- How frequently a feature is used to split nodes in trees\n",
        "- How much the feature reduces prediction error (Gain)\n",
        "\n",
        "---\n",
        "\n",
        "| Feature                    | Importance |\n",
        "|---------------------------|------------|\n",
        "| TX_OVER_CUSTOMER_AVG      | 1385.0     |\n",
        "| CUSTOMER_MAX_AMOUNT_7D    | 1000.0     |\n",
        "| TERMINAL_RISK             | 910.0      |\n",
        "| TX_OVER_MAX_LAST_7D       | 757.0      |\n",
        "| TERMINAL_TX_COUNT_7D      | 289.0      |\n",
        "| AVG_AMOUNT_CUSTOMER       | 251.0      |\n",
        "| TX_MONTH                  | 229.0      |\n",
        "| CUSTOMER_AVG_AMOUNT_7D    | 166.0      |\n",
        "| TERMINAL_TX_COUNT_MONTH   | 135.0      |\n",
        "| CUSTOMER_TX_COUNT_7D      | 113.0      |\n",
        "| TX_IS_WEEKEND             | 102.0      |\n",
        "| TIME_SINCE_LAST_TX        | 97.0       |\n",
        "| IS_NIGHT_TX               | 79.0       |\n",
        "| TX_WEEK_DAY               | 72.0       |\n",
        "| CUSTOMER_TX_COUNT_MONTH   | 69.0       |\n",
        "\n",
        "---\n",
        "\n",
        "## ✅ Why These Features Are Useful\n",
        "\n",
        "- **TERMINAL_RISK**: Precomputed fraud risk of a terminal based on its past fraud rate  \n",
        "- **TX_OVER_CUSTOMER_AVG**: Ratio of current tx vs user's average; large spikes may indicate fraud  \n",
        "- **CUSTOMER_MAX_AMOUNT_7D**: Recent max amount helps detect unusual high spending  \n",
        "- **TIME_SINCE_LAST_TX**: Sudden bursts of activity are suspicious  \n",
        "- **AVG_AMOUNT_CUSTOMER**: Baseline for spotting outlier transactions  \n",
        "- **TX_OVER_MAX_LAST_7D**: Current vs last 7-day max; deviation is a red flag  \n",
        "- **CUSTOMER_TX_COUNT_** and **TERMINAL_TX_COUNT_**: High transaction frequency in short time = risk  \n",
        "- **TX_HOUR, TX_WEEK_DAY, TX_MONTH**: Fraud tends to occur at **unusual times/days/months**\n",
        "\n",
        "---\n",
        "\n",
        "## 🎯 Conclusion\n",
        "\n",
        "These top features were all **time-aware, leakage-free**, and built using rolling windows or groupby logic.  \n",
        "Their importance in the model shows that fraud can often be caught by looking at:\n",
        "\n",
        "- **How transactions deviate from a customer’s usual behavior**\n",
        "- **How risky a terminal is**\n",
        "- **When and how frequently transactions occur**\n",
        "\n",
        "Focusing on these features ensures strong model performance and makes future improvements easier.\n"
      ]
    },
    {
      "cell_type": "markdown",
      "id": "76b21b35",
      "metadata": {
        "id": "76b21b35"
      },
      "source": [
        "**Created by : Rajat Singh**"
      ]
    },
    {
      "cell_type": "code",
      "execution_count": null,
      "id": "5588c9ad",
      "metadata": {},
      "outputs": [],
      "source": []
    }
  ],
  "metadata": {
    "colab": {
      "provenance": []
    },
    "kernelspec": {
      "display_name": "base",
      "language": "python",
      "name": "python3"
    },
    "language_info": {
      "codemirror_mode": {
        "name": "ipython",
        "version": 3
      },
      "file_extension": ".py",
      "mimetype": "text/x-python",
      "name": "python",
      "nbconvert_exporter": "python",
      "pygments_lexer": "ipython3",
      "version": "3.12.7"
    }
  },
  "nbformat": 4,
  "nbformat_minor": 5
}
